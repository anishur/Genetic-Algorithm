{
 "cells": [
  {
   "cell_type": "code",
   "execution_count": null,
   "id": "a06415b4-a97a-487c-9f38-9f3dd2f9ab1e",
   "metadata": {},
   "outputs": [],
   "source": [
    "#https://www.youtube.com/watch?v=4XZoVQOt-0I\n",
    "#Genetic Algorithm In Python Super Basic Example"
   ]
  },
  {
   "cell_type": "code",
   "execution_count": 40,
   "id": "451d5473-e489-4d26-8002-530ff385ee6f",
   "metadata": {},
   "outputs": [],
   "source": [
    "import random"
   ]
  },
  {
   "cell_type": "code",
   "execution_count": 41,
   "id": "9d9aa2c4-4dae-453b-a051-6eb188e6f611",
   "metadata": {},
   "outputs": [],
   "source": [
    "def foo(x,y,z):\n",
    "    return 6*x**3 + 9*y**2 + 90*z - 25"
   ]
  },
  {
   "cell_type": "code",
   "execution_count": 42,
   "id": "f48ef813-e696-43ff-95e0-585d601f23a5",
   "metadata": {},
   "outputs": [],
   "source": [
    "def fitness(x,y,z):\n",
    "    ans = foo(x,y,z)\n",
    "    \n",
    "    if ans == 0:\n",
    "        return 99999\n",
    "    else:\n",
    "        return abs(1/ans)"
   ]
  },
  {
   "cell_type": "code",
   "execution_count": 44,
   "id": "cfa78c94-b816-409d-b412-4bcd140ab0f7",
   "metadata": {},
   "outputs": [],
   "source": [
    "# generate solutions\n",
    "\n",
    "solutions = []\n",
    "\n",
    "for s in range(1000):\n",
    "    solutions.append((random.uniform(0,10000), \n",
    "                      random.uniform(0,10000),\n",
    "                      random.uniform(0,10000)))"
   ]
  },
  {
   "cell_type": "code",
   "execution_count": 46,
   "id": "d163ada9-aa54-4be1-a51e-fc6e7c73d8d7",
   "metadata": {},
   "outputs": [
    {
     "name": "stdout",
     "output_type": "stream",
     "text": [
      "[(3243.29866771766, 4589.374771608637, 7281.8438171335865), (5527.745050890628, 3284.7756150752525, 3006.6389754611255), (7386.31003293318, 5282.568199399353, 9538.03504647527), (2786.3016016156694, 5241.730055627864, 41.330128867690384), (2293.3080090863123, 24.329018578679307, 5549.652127006254)]\n"
     ]
    }
   ],
   "source": [
    "print(solutions[:5])"
   ]
  },
  {
   "cell_type": "code",
   "execution_count": 49,
   "id": "b1540429-1513-4886-802f-fc9bba9e458d",
   "metadata": {},
   "outputs": [
    {
     "name": "stdout",
     "output_type": "stream",
     "text": [
      "=== Gen 0 best solutions === \n",
      "(2655.7830860199338, (0.2690460359387255, 0.2679066847253793, 0.2693062220590039))\n"
     ]
    }
   ],
   "source": [
    "for i in range(10000):\n",
    "    \n",
    "    rankedsolutions = []\n",
    "    \n",
    "    for s in solutions:\n",
    "        \n",
    "        rankedsolutions.append((fitness(s[0],s[1],s[2]),s))\n",
    "    \n",
    "    rankedsolutions.sort()\n",
    "    rankedsolutions.reverse()\n",
    "    \n",
    "    print(f\"=== Gen {i} best solutions === \")\n",
    "    \n",
    "    print(rankedsolutions[0])\n",
    "    \n",
    "    if rankedsolutions[0][0] > 999:\n",
    "        break\n",
    "    \n",
    "    bestsolutions = rankedsolutions[:100]\n",
    "    \n",
    "    elements = []\n",
    "    \n",
    "    for s in bestsolutions:\n",
    "        \n",
    "        elements.append(s[1][0])\n",
    "        elements.append(s[1][1])\n",
    "        elements.append(s[1][2])\n",
    "        \n",
    "    newGen = []\n",
    "    \n",
    "    for _ in range(1000):\n",
    "        \n",
    "        e1 = random.choice(elements) * random.uniform(0.99, 1.01)\n",
    "        e2 = random.choice(elements) * random.uniform(0.99, 1.01)\n",
    "        e3 = random.choice(elements) * random.uniform(0.99, 1.01)\n",
    "        \n",
    "        newGen.append((e1,e2,e3))\n",
    "    \n",
    "    #rankedsolutions = newGen\n",
    "    solutions = newGen"
   ]
  },
  {
   "cell_type": "code",
   "execution_count": 50,
   "id": "3b756984-cf1a-4e5e-b80a-28ca3c889b3b",
   "metadata": {},
   "outputs": [
    {
     "name": "stdout",
     "output_type": "stream",
     "text": [
      "25.000376536775637\n"
     ]
    }
   ],
   "source": [
    "print(6 * 0.2690460359387255**3 + 9 * 0.2679066847253793**2 +  90 * 0.2693062220590039)"
   ]
  }
 ],
 "metadata": {
  "kernelspec": {
   "display_name": "Python 3 (ipykernel)",
   "language": "python",
   "name": "python3"
  },
  "language_info": {
   "codemirror_mode": {
    "name": "ipython",
    "version": 3
   },
   "file_extension": ".py",
   "mimetype": "text/x-python",
   "name": "python",
   "nbconvert_exporter": "python",
   "pygments_lexer": "ipython3",
   "version": "3.8.12"
  },
  "widgets": {
   "application/vnd.jupyter.widget-state+json": {
    "state": {},
    "version_major": 2,
    "version_minor": 0
   }
  }
 },
 "nbformat": 4,
 "nbformat_minor": 5
}
