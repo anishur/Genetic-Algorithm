{
 "cells": [
  {
   "cell_type": "code",
   "execution_count": null,
   "id": "ba17efb8",
   "metadata": {},
   "outputs": [],
   "source": [
    "# The mathematical function that we want to maximize is state below\n",
    "# f(x1 + x2) = x1**2 + x2**2\n",
    "# The implement of the algorithm is step-by-step below\n",
    "#https://algodaily.com/lessons/introduction-to-genetic-algorithms-in-python"
   ]
  },
  {
   "cell_type": "code",
   "execution_count": 5,
   "id": "8184d319",
   "metadata": {},
   "outputs": [],
   "source": [
    "genes = 2\n",
    "chromosomes = 10\n",
    "lb = -5\n",
    "ub = 5\n",
    "populationSize = (chromosomes,genes)\n",
    "#print(populationSize)\n",
    "generations = 50\n",
    "mattingPoolSize = 6\n",
    "#offspringSize = populationSize - mattingPoolSize\n",
    "\n",
    "#offspringSize = []\n",
    "\n",
    "#for i in populationSize:\n",
    "#    offspringSize.append(populationSize - mattingPoolSize)\n",
    "#print(offspringSize)"
   ]
  },
  {
   "cell_type": "code",
   "execution_count": 6,
   "id": "f09ba20e",
   "metadata": {},
   "outputs": [],
   "source": [
    "import numpy"
   ]
  },
  {
   "cell_type": "code",
   "execution_count": 8,
   "id": "21e328c9",
   "metadata": {},
   "outputs": [
    {
     "name": "stdout",
     "output_type": "stream",
     "text": [
      "[[ 4.32330659  4.94457631]\n",
      " [-1.98225531 -2.19382892]\n",
      " [ 0.50623341  4.8140957 ]\n",
      " [ 3.82902605 -1.55820325]\n",
      " [ 2.94107734  3.64516322]\n",
      " [ 1.03375767 -2.26266535]\n",
      " [ 2.37310853  2.95045607]\n",
      " [-3.55711291 -4.23935078]\n",
      " [-3.43304897  1.79022499]\n",
      " [-4.51742616 -3.6122509 ]]\n"
     ]
    }
   ],
   "source": [
    "population = numpy.random.uniform(lb,ub,populationSize)\n",
    "print(population)"
   ]
  },
  {
   "cell_type": "code",
   "execution_count": 9,
   "id": "5438402b",
   "metadata": {},
   "outputs": [],
   "source": [
    "fintness = numpy.sum(population * population, axis=1)"
   ]
  },
  {
   "cell_type": "code",
   "execution_count": null,
   "id": "923ca06e",
   "metadata": {},
   "outputs": [],
   "source": [
    "# Matting selection\n",
    "# To perform crossover, it is required to first construct the matting pool that will contain the best solutions \n",
    "# to take part in the crossover operator\n",
    "# The number of parents will be decided by the mattingPoolSize variable"
   ]
  },
  {
   "cell_type": "code",
   "execution_count": 10,
   "id": "25302d53",
   "metadata": {},
   "outputs": [
    {
     "ename": "TypeError",
     "evalue": "'tuple' object cannot be interpreted as an integer",
     "output_type": "error",
     "traceback": [
      "\u001b[1;31m---------------------------------------------------------------------------\u001b[0m",
      "\u001b[1;31mTypeError\u001b[0m                                 Traceback (most recent call last)",
      "\u001b[1;32m~\\AppData\\Local\\Temp/ipykernel_17848/1287191001.py\u001b[0m in \u001b[0;36m<module>\u001b[1;34m\u001b[0m\n\u001b[1;32m----> 1\u001b[1;33m \u001b[0mparents\u001b[0m \u001b[1;33m=\u001b[0m \u001b[0mnumpy\u001b[0m\u001b[1;33m.\u001b[0m\u001b[0mempty\u001b[0m\u001b[1;33m(\u001b[0m\u001b[1;33m(\u001b[0m\u001b[0mmattingPoolSize\u001b[0m\u001b[1;33m,\u001b[0m\u001b[0mpopulation\u001b[0m\u001b[1;33m.\u001b[0m\u001b[0mshape\u001b[0m\u001b[1;33m)\u001b[0m\u001b[1;33m)\u001b[0m\u001b[1;33m\u001b[0m\u001b[1;33m\u001b[0m\u001b[0m\n\u001b[0m",
      "\u001b[1;31mTypeError\u001b[0m: 'tuple' object cannot be interpreted as an integer"
     ]
    }
   ],
   "source": [
    "#parents = numpy.empty((mattingPoolSize,population.shape))"
   ]
  },
  {
   "cell_type": "code",
   "execution_count": null,
   "id": "9444f0af",
   "metadata": {},
   "outputs": [],
   "source": [
    "# A loop to extract one parent in each iteration\n",
    "# for p in range(mattingPoolSize)"
   ]
  }
 ],
 "metadata": {
  "kernelspec": {
   "display_name": "Python 3 (ipykernel)",
   "language": "python",
   "name": "python3"
  },
  "language_info": {
   "codemirror_mode": {
    "name": "ipython",
    "version": 3
   },
   "file_extension": ".py",
   "mimetype": "text/x-python",
   "name": "python",
   "nbconvert_exporter": "python",
   "pygments_lexer": "ipython3",
   "version": "3.8.12"
  },
  "varInspector": {
   "cols": {
    "lenName": 16,
    "lenType": 16,
    "lenVar": 40
   },
   "kernels_config": {
    "python": {
     "delete_cmd_postfix": "",
     "delete_cmd_prefix": "del ",
     "library": "var_list.py",
     "varRefreshCmd": "print(var_dic_list())"
    },
    "r": {
     "delete_cmd_postfix": ") ",
     "delete_cmd_prefix": "rm(",
     "library": "var_list.r",
     "varRefreshCmd": "cat(var_dic_list()) "
    }
   },
   "types_to_exclude": [
    "module",
    "function",
    "builtin_function_or_method",
    "instance",
    "_Feature"
   ],
   "window_display": false
  }
 },
 "nbformat": 4,
 "nbformat_minor": 5
}
