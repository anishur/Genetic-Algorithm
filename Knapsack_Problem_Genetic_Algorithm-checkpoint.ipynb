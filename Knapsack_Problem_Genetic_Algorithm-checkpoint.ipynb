{
 "cells": [
  {
   "cell_type": "code",
   "execution_count": null,
   "id": "9fea2c89-3e30-4819-94ee-1171a366bd46",
   "metadata": {},
   "outputs": [],
   "source": [
    "# The Knapsack problem is a problem in combinatorial optimization\n",
    "# Given a set of items, each with a weight and a value\n",
    "# determine the number of each item to include in a collection \n",
    "# so, that the total weight is less than or equal to a given limit\n",
    "# and the total value is as large as possible\n",
    "# ref: https://en.wikipedia.org/wiki/Knapsack_problem"
   ]
  },
  {
   "cell_type": "code",
   "execution_count": null,
   "id": "17cb1f74-d51b-414b-98b4-3dac0a862d82",
   "metadata": {},
   "outputs": [],
   "source": [
    "# Knapsack Problem solved using genetic algorithms in Python"
   ]
  },
  {
   "cell_type": "code",
   "execution_count": 3,
   "id": "675c76e3-78f8-49bc-97b8-3b2795df5f18",
   "metadata": {},
   "outputs": [],
   "source": [
    "import numpy as np\n",
    "import random\n",
    "from datetime import datetime"
   ]
  },
  {
   "cell_type": "code",
   "execution_count": 4,
   "id": "447afc0a-4a0a-46ff-9c58-eb02d018ccad",
   "metadata": {},
   "outputs": [],
   "source": [
    "n_objects = 20\n",
    "\n",
    "max_weight = 3\n",
    "\n",
    "n_population = 100\n",
    "\n",
    "mutation_rate = 0.3"
   ]
  },
  {
   "cell_type": "code",
   "execution_count": 9,
   "id": "1c8c9f83-04a4-40a9-837b-58064ac6b9ae",
   "metadata": {},
   "outputs": [
    {
     "data": {
      "text/plain": [
       "{'Water': [0.4, 53],\n",
       " 'Food': [0.9, 76],\n",
       " 'Pants': [0.0, 24],\n",
       " 'Socks': [0.1, 80],\n",
       " 'Boots': [0.9, 65],\n",
       " 'Shirts': [0.8, 67],\n",
       " 'Coat': [0.1, 45],\n",
       " 'Blanket': [0.0, 33],\n",
       " 'Laptop': [0.3, 65],\n",
       " 'TV': [0.5, 16],\n",
       " 'Cellphone': [0.3, 0],\n",
       " 'Book': [0.6, 42],\n",
       " 'Gloves': [0.7, 26],\n",
       " 'Towel': [0.1, 56],\n",
       " 'Sunscream': [0.2, 45],\n",
       " 'Glasses': [0.1, 80],\n",
       " 'Fork': [0.8, 66],\n",
       " 'Knife': [0.8, 4],\n",
       " 'Matches': [0.0, 28],\n",
       " 'Chair': [0.8, 28]}"
      ]
     },
     "execution_count": 9,
     "metadata": {},
     "output_type": "execute_result"
    }
   ],
   "source": [
    "# to generate automatically the weights of objects\n",
    "\n",
    "weight_value = [[x,y] for x,y in zip(np.random.randint(0,10,n_objects)/10, np.random.randint(0,100,n_objects))]\n",
    "\n",
    "object_list = np.array(['Water','Food','Pants','Socks','Boots','Shirts','Coat','Blanket','Laptop','TV','Cellphone','Book','Gloves','Towel','Sunscream','Glasses','Fork','Knife','Matches','Chair'])\n",
    "\n",
    "objects_dict = {x:y for x,y in zip(object_list, weight_value)}\n",
    "\n",
    "objects_dict"
   ]
  },
  {
   "cell_type": "code",
   "execution_count": 14,
   "id": "dda40e59-962f-4a6c-a215-a65f7b6f1f4c",
   "metadata": {},
   "outputs": [],
   "source": [
    "# to get the weight and value of each item\n",
    "# we can do it in different way if the weight and value is given \n",
    "# eventhough we can separate weight (objects_dict[0]) and value (objects_dict[1])\n",
    "# from objects_dict\n",
    "\n",
    "def get_current_weight_value(objects_list, objects_dict):\n",
    "    \n",
    "    weight = 0\n",
    "    \n",
    "    value = 0\n",
    "    \n",
    "    for i in objects_list:\n",
    "        \n",
    "        i = objects_dict[i]\n",
    "        \n",
    "        weight += i[0]\n",
    "        \n",
    "        value += i[1]\n",
    "    \n",
    "    return weight, value"
   ]
  },
  {
   "cell_type": "code",
   "execution_count": 15,
   "id": "13bc46d8-ef2b-46af-97e9-ad04686a694b",
   "metadata": {},
   "outputs": [],
   "source": [
    "def fit_in_knapscak(objects_list, max_weight, objects_dict):\n",
    "    \n",
    "    r = []\n",
    "    \n",
    "    for i in objects_list:\n",
    "        \n",
    "        r.append(i)\n",
    "        \n",
    "        weight, value = get_current_weight_value(r, objects_dict)\n",
    "        \n",
    "        if weight > max_weight:\n",
    "            \n",
    "            r.pop()\n",
    "            \n",
    "            return r\n",
    "    \n",
    "    return r"
   ]
  },
  {
   "cell_type": "code",
   "execution_count": 16,
   "id": "c8130bfc-bc1b-46ce-8d5b-5cedace19797",
   "metadata": {},
   "outputs": [],
   "source": [
    "# Create the first population set\n",
    "# we randomly shuffle the items N times where N = population_size"
   ]
  },
  {
   "cell_type": "code",
   "execution_count": 17,
   "id": "eb48617a-bcba-4910-8cbd-c561a3f5b1b9",
   "metadata": {},
   "outputs": [],
   "source": [
    "# First step : create the first population set\n",
    "\n",
    "def fit_in_knapsack(objects_list, max_weight, objects_dict):\n",
    "    \n",
    "    r = []\n",
    "    \n",
    "    for i in objects_list:\n",
    "        \n",
    "        r.append(i)\n",
    "        \n",
    "        weight, value = get_current_weight_value(r, objects_dict)\n",
    "        \n",
    "        if weight > max_weight:\n",
    "            \n",
    "            r.pop()\n",
    "            \n",
    "            return r\n",
    "        \n",
    "    return r"
   ]
  },
  {
   "cell_type": "code",
   "execution_count": 18,
   "id": "71b72bca-9d47-4da2-a293-ab56ca21eaf1",
   "metadata": {},
   "outputs": [],
   "source": [
    "def genesis(object_list, n_population, max_weight, objects_dict):\n",
    "    \n",
    "    population_set = []\n",
    "    \n",
    "    for i in range(n_population):\n",
    "        \n",
    "        #Randomly generating a new solution\n",
    "        \n",
    "        sol_i = object_list[np.random.choice(list(range(n_objects)), n_objects, replace=False)]\n",
    "        \n",
    "        sol_i = fit_in_knapscak(sol_i, max_weight, objects_dict)\n",
    "        \n",
    "        population_set.append(sol_i)\n",
    "     \n",
    "    return np.array(population_set)\n",
    "\n",
    "    "
   ]
  },
  {
   "cell_type": "code",
   "execution_count": 20,
   "id": "820516b9-c03c-4cf1-9312-a8d2808b441b",
   "metadata": {},
   "outputs": [
    {
     "name": "stderr",
     "output_type": "stream",
     "text": [
      "C:\\Users\\Lenovo\\AppData\\Local\\Temp/ipykernel_9692/3975064851.py:15: VisibleDeprecationWarning: Creating an ndarray from ragged nested sequences (which is a list-or-tuple of lists-or-tuples-or ndarrays with different lengths or shapes) is deprecated. If you meant to do this, you must specify 'dtype=object' when creating the ndarray.\n",
      "  return np.array(population_set)\n"
     ]
    },
    {
     "data": {
      "text/plain": [
       "array([list(['Chair', 'Matches', 'Book', 'Laptop', 'Glasses', 'Knife', 'Sunscream', 'Towel', 'Blanket']),\n",
       "       list(['Boots', 'Towel', 'Sunscream', 'Shirts', 'Gloves']),\n",
       "       list(['Cellphone', 'Gloves', 'Boots', 'Knife', 'Towel', 'Matches', 'Blanket', 'Glasses']),\n",
       "       list(['Pants', 'Food', 'Knife', 'Matches', 'Gloves', 'Laptop', 'Glasses']),\n",
       "       list(['Chair', 'Cellphone', 'Food', 'Gloves', 'Towel', 'Blanket']),\n",
       "       list(['TV', 'Matches', 'Gloves', 'Sunscream', 'Coat', 'Cellphone', 'Book']),\n",
       "       list(['Water', 'Shirts', 'Fork', 'TV']),\n",
       "       list(['Laptop', 'Coat', 'Blanket', 'Matches', 'Socks', 'Towel', 'Food', 'Shirts']),\n",
       "       list(['Food', 'Socks', 'Cellphone', 'Chair', 'Laptop', 'Book']),\n",
       "       list(['Food', 'Towel', 'Water', 'Coat', 'Blanket', 'Pants', 'Glasses', 'Chair']),\n",
       "       list(['Sunscream', 'Boots', 'Gloves', 'Food', 'Glasses']),\n",
       "       list(['Cellphone', 'Food', 'Pants', 'Water', 'Knife', 'TV']),\n",
       "       list(['Water', 'Gloves', 'Chair', 'Laptop', 'Coat', 'Book']),\n",
       "       list(['Coat', 'Glasses', 'Blanket', 'Book', 'Laptop', 'Knife', 'Matches', 'Food']),\n",
       "       list(['Gloves', 'Socks', 'Blanket', 'Food', 'Knife', 'Sunscream', 'Matches', 'Glasses']),\n",
       "       list(['Food', 'Chair', 'TV', 'Shirts', 'Blanket']),\n",
       "       list(['Matches', 'Socks', 'TV', 'Water', 'Glasses', 'Book', 'Pants', 'Towel', 'Chair']),\n",
       "       list(['Glasses', 'Socks', 'Book', 'Shirts', 'Fork']),\n",
       "       list(['Laptop', 'Boots', 'Glasses', 'Sunscream', 'Matches', 'Blanket', 'Towel', 'Gloves', 'Book']),\n",
       "       list(['Cellphone', 'Towel', 'Gloves', 'Boots', 'Glasses', 'Fork', 'Pants']),\n",
       "       list(['TV', 'Matches', 'Water', 'Glasses', 'Socks', 'Shirts', 'Food', 'Coat']),\n",
       "       list(['Water', 'Gloves', 'Blanket', 'Coat', 'Chair', 'Socks', 'Sunscream', 'Cellphone']),\n",
       "       list(['Glasses', 'Water', 'TV', 'Food', 'Blanket', 'Pants', 'Book', 'Matches', 'Laptop', 'Coat']),\n",
       "       list(['Knife', 'Glasses', 'Shirts', 'TV', 'Cellphone', 'Socks', 'Laptop']),\n",
       "       list(['Towel', 'Water', 'Knife', 'Gloves', 'Socks', 'Chair', 'Blanket']),\n",
       "       list(['Socks', 'Water', 'Laptop', 'Fork', 'Book', 'Chair']),\n",
       "       list(['Pants', 'Boots', 'Fork', 'Coat', 'Matches', 'Sunscream', 'Book']),\n",
       "       list(['Sunscream', 'Blanket', 'Matches', 'Knife', 'TV', 'Laptop', 'Cellphone', 'Boots']),\n",
       "       list(['Glasses', 'TV', 'Fork', 'Coat', 'Blanket', 'Knife', 'Cellphone', 'Water']),\n",
       "       list(['Food', 'Glasses', 'Book', 'TV', 'Boots']),\n",
       "       list(['Matches', 'Shirts', 'Book', 'Food', 'Glasses', 'Pants', 'Towel']),\n",
       "       list(['Sunscream', 'TV', 'Socks', 'Shirts', 'Laptop', 'Blanket', 'Boots']),\n",
       "       list(['TV', 'Water', 'Pants', 'Food', 'Coat', 'Socks', 'Glasses', 'Towel', 'Chair']),\n",
       "       list(['Cellphone', 'Gloves', 'TV', 'Sunscream', 'Matches', 'Laptop', 'Glasses', 'Coat', 'Water']),\n",
       "       list(['Cellphone', 'Water', 'Towel', 'Coat', 'Knife', 'Blanket', 'Socks', 'Food']),\n",
       "       list(['Coat', 'TV', 'Gloves', 'Pants', 'Fork', 'Boots']),\n",
       "       list(['Towel', 'Sunscream', 'Laptop', 'Shirts', 'Gloves', 'Cellphone', 'Glasses']),\n",
       "       list(['Boots', 'Shirts', 'Laptop', 'Matches', 'Gloves']),\n",
       "       list(['Coat', 'Water', 'Fork', 'Food', 'Sunscream']),\n",
       "       list(['Book', 'Coat', 'Cellphone', 'Matches', 'Knife', 'Chair']),\n",
       "       list(['Shirts', 'Matches', 'Coat', 'Knife', 'Fork', 'Glasses', 'Towel']),\n",
       "       list(['Coat', 'Matches', 'Boots', 'Cellphone', 'Sunscream', 'Laptop', 'Knife']),\n",
       "       list(['Knife', 'Pants', 'Chair', 'Fork']),\n",
       "       list(['Towel', 'Boots', 'TV', 'Knife', 'Water', 'Pants', 'Coat', 'Socks', 'Glasses', 'Matches']),\n",
       "       list(['Laptop', 'Boots', 'Sunscream', 'Gloves', 'Book', 'Towel']),\n",
       "       list(['Book', 'Cellphone', 'Pants', 'Chair', 'Sunscream', 'Laptop', 'Matches', 'Coat']),\n",
       "       list(['Fork', 'Glasses', 'Water', 'Cellphone', 'Gloves']),\n",
       "       list(['Matches', 'Boots', 'Fork', 'Glasses', 'Towel', 'Book', 'Water']),\n",
       "       list(['Blanket', 'Chair', 'Pants', 'Book', 'Shirts', 'Laptop']),\n",
       "       list(['Glasses', 'Cellphone', 'Food', 'Boots', 'TV', 'Pants']),\n",
       "       list(['Shirts', 'Towel', 'Laptop', 'Cellphone', 'Boots']),\n",
       "       list(['Laptop', 'Gloves', 'Pants', 'Boots', 'Water', 'Coat']),\n",
       "       list(['TV', 'Blanket', 'Water', 'Boots', 'Food']),\n",
       "       list(['Socks', 'Boots', 'Book', 'TV', 'Cellphone', 'Coat', 'Matches', 'Blanket']),\n",
       "       list(['Cellphone', 'Socks', 'Chair', 'Book', 'Pants', 'TV']),\n",
       "       list(['Fork', 'Towel', 'Glasses', 'Gloves', 'Boots', 'Blanket', 'Cellphone']),\n",
       "       list(['Shirts', 'Chair', 'Coat', 'Water', 'Glasses', 'Socks', 'Matches', 'Cellphone']),\n",
       "       list(['Laptop', 'Book', 'Glasses', 'Coat', 'Pants', 'Matches', 'TV', 'Shirts']),\n",
       "       list(['Boots', 'Matches', 'Book', 'Glasses', 'Sunscream', 'Laptop', 'TV', 'Pants', 'Towel']),\n",
       "       list(['Pants', 'Matches', 'Coat', 'Water', 'Fork', 'Socks', 'Shirts', 'Blanket', 'Cellphone']),\n",
       "       list(['Towel', 'Socks', 'Food', 'Pants', 'Boots', 'Laptop', 'Coat', 'TV', 'Glasses', 'Matches']),\n",
       "       list(['Laptop', 'Glasses', 'Boots', 'Cellphone', 'Gloves', 'Matches']),\n",
       "       list(['Laptop', 'Coat', 'Boots', 'Blanket', 'Towel', 'Cellphone', 'Gloves', 'Socks']),\n",
       "       list(['Chair', 'Socks', 'Pants', 'Towel', 'Matches', 'Glasses', 'TV', 'Coat', 'Shirts']),\n",
       "       list(['Sunscream', 'Socks', 'Pants', 'Towel', 'TV', 'Glasses', 'Coat', 'Boots', 'Food']),\n",
       "       list(['Knife', 'Coat', 'Chair', 'Fork', 'Sunscream', 'Laptop']),\n",
       "       list(['Laptop', 'Gloves', 'Boots', 'Food', 'Pants']),\n",
       "       list(['Glasses', 'Matches', 'Towel', 'Boots', 'Knife', 'Sunscream', 'Shirts']),\n",
       "       list(['Book', 'Boots', 'Gloves', 'Matches', 'Towel', 'Pants', 'Blanket']),\n",
       "       list(['Water', 'Gloves', 'Food', 'Chair', 'Socks']),\n",
       "       list(['Water', 'Boots', 'Food', 'Shirts']),\n",
       "       list(['Chair', 'Towel', 'Pants', 'Cellphone', 'Food', 'Coat', 'Glasses']),\n",
       "       list(['Blanket', 'Towel', 'Book', 'Gloves', 'Cellphone', 'Knife', 'Glasses']),\n",
       "       list(['Coat', 'Knife', 'Towel', 'Pants', 'Glasses', 'Boots', 'Chair', 'Sunscream']),\n",
       "       list(['Fork', 'Socks', 'Shirts', 'TV', 'Gloves']),\n",
       "       list(['Fork', 'Shirts', 'Book', 'Coat']),\n",
       "       list(['Boots', 'Chair', 'Socks', 'Matches', 'Gloves', 'Sunscream']),\n",
       "       list(['Fork', 'Towel', 'Boots', 'Cellphone', 'Water', 'Laptop', 'Glasses', 'Matches']),\n",
       "       list(['Boots', 'Cellphone', 'Towel', 'Pants', 'Knife', 'Food']),\n",
       "       list(['Cellphone', 'Coat', 'Glasses', 'Boots', 'Water', 'TV']),\n",
       "       list(['Fork', 'Laptop', 'Chair', 'Towel', 'Socks', 'Book']),\n",
       "       list(['TV', 'Towel', 'Coat', 'Gloves', 'Matches', 'Glasses', 'Laptop', 'Socks', 'Blanket', 'Fork']),\n",
       "       list(['Coat', 'Sunscream', 'Glasses', 'Knife', 'Water', 'Chair', 'Blanket', 'Socks']),\n",
       "       list(['Book', 'Coat', 'TV', 'Chair', 'Gloves', 'Glasses']),\n",
       "       list(['Fork', 'Shirts', 'Boots', 'Pants']),\n",
       "       list(['Boots', 'Shirts', 'Cellphone', 'Sunscream', 'Laptop']),\n",
       "       list(['Matches', 'TV', 'Pants', 'Gloves', 'Laptop', 'Water', 'Fork']),\n",
       "       list(['Gloves', 'Shirts', 'Cellphone', 'Socks', 'Knife', 'Laptop']),\n",
       "       list(['Glasses', 'Cellphone', 'Gloves', 'Matches', 'Towel', 'Boots', 'Knife']),\n",
       "       list(['Food', 'Fork', 'Coat', 'Book', 'Blanket', 'Socks', 'Laptop']),\n",
       "       list(['Shirts', 'Gloves', 'Pants', 'TV', 'Glasses', 'Food']),\n",
       "       list(['Fork', 'Blanket', 'Matches', 'Chair', 'Shirts', 'Glasses', 'Pants']),\n",
       "       list(['TV', 'Coat', 'Sunscream', 'Chair', 'Food', 'Glasses']),\n",
       "       list(['Cellphone', 'Pants', 'Fork', 'TV', 'Book']),\n",
       "       list(['Pants', 'Fork', 'Cellphone', 'Coat', 'Knife', 'Boots']),\n",
       "       list(['Laptop', 'Knife', 'Coat', 'Chair', 'Cellphone', 'Pants']),\n",
       "       list(['Chair', 'Matches', 'Laptop', 'Boots', 'Food', 'Pants']),\n",
       "       list(['Laptop', 'Fork', 'Chair', 'Coat', 'Socks', 'Shirts']),\n",
       "       list(['Food', 'Book', 'TV', 'Cellphone', 'Water', 'Laptop']),\n",
       "       list(['Socks', 'Blanket', 'Sunscream', 'Shirts', 'Knife', 'Chair', 'Glasses'])],\n",
       "      dtype=object)"
      ]
     },
     "execution_count": 20,
     "metadata": {},
     "output_type": "execute_result"
    }
   ],
   "source": [
    "population_set = genesis(object_list, n_population, max_weight, objects_dict)\n",
    "\n",
    "population_set"
   ]
  },
  {
   "cell_type": "code",
   "execution_count": null,
   "id": "c9294030-1aa9-4c5b-808b-6817483e7240",
   "metadata": {},
   "outputs": [],
   "source": [
    "# Evaluate solutions fitness\n"
   ]
  },
  {
   "cell_type": "code",
   "execution_count": 21,
   "id": "fc72e81e-833e-4de6-8d72-fae2c733f6dd",
   "metadata": {},
   "outputs": [],
   "source": [
    "def get_all_fitnes(population_set, objects_dict):\n",
    "    \n",
    "    fitnes_list = np.zeros(n_population)\n",
    "     \n",
    "    # Looping over all solutions computing the fitness for each solution\n",
    "    \n",
    "    for i in range(n_population):\n",
    "        \n",
    "        _, fitnes_list[i] = get_current_weight_value(population_set[i], objects_dict)\n",
    "        \n",
    "    return fitnes_list\n"
   ]
  },
  {
   "cell_type": "code",
   "execution_count": 24,
   "id": "2ac2ea5c-9461-4424-9a18-a95595d636a6",
   "metadata": {},
   "outputs": [
    {
     "data": {
      "text/plain": [
       "array([381., 259., 292., 303., 219., 202., 202., 450., 291., 395., 292.,\n",
       "       173., 259., 373., 372., 220., 407., 335., 440., 317., 445., 310.,\n",
       "       462., 312., 280., 334., 315., 256., 297., 279., 373., 371., 458.,\n",
       "       358., 347., 242., 339., 251., 285., 147., 346., 252., 122., 451.,\n",
       "       299., 277., 225., 390., 259., 261., 253., 278., 243., 309., 190.,\n",
       "       326., 381., 367., 421., 396., 535., 264., 370., 424., 487., 253.,\n",
       "       256., 345., 274., 263., 261., 309., 241., 347., 255., 220., 272.,\n",
       "       413., 225., 259., 337., 495., 368., 237., 222., 242., 278., 242.,\n",
       "       259., 407., 289., 326., 290., 148., 204., 166., 286., 351., 252.,\n",
       "       337.])"
      ]
     },
     "execution_count": 24,
     "metadata": {},
     "output_type": "execute_result"
    }
   ],
   "source": [
    "fitnes_list = get_all_fitnes(population_set, objects_dict)\n",
    "\n",
    "fitnes_list\n",
    "#len(fitnes_list)"
   ]
  },
  {
   "cell_type": "code",
   "execution_count": null,
   "id": "08edbfdf-527e-4128-bb83-f0a7d723683a",
   "metadata": {},
   "outputs": [],
   "source": [
    "# Progenitors selection - select a new set of progenitors using the Roulette Wheel Selection\n",
    "# https://www.baeldung.com/cs/genetic-algorithms-roulette-selection"
   ]
  },
  {
   "cell_type": "code",
   "execution_count": 25,
   "id": "acb43cf6-7203-448f-9dc4-72792bbf763f",
   "metadata": {},
   "outputs": [],
   "source": [
    "def progenitor_selection(population_set, fitnes_list):\n",
    "    \n",
    "    total_fit = fitnes_list.sum()\n",
    "    \n",
    "    prob_list = fitnes_list/total_fit\n",
    "    \n",
    "    # notice there is the chance that a progenitor. mates with oneself \n",
    "    \n",
    "    progenitor_list_a = np.random.choice(list(range(len(population_set))), len(population_set), p = prob_list, replace=True)\n",
    "    \n",
    "    progenitor_list_b = np.random.choice(list(range(len(population_set))), len(population_set), p = prob_list, replace=True)\n",
    "    \n",
    "    \n",
    "    progenitor_list_a = population_set[progenitor_list_a]\n",
    "    \n",
    "    progenitor_list_b = population_set[progenitor_list_b]\n",
    "    \n",
    "    return np.array([progenitor_list_a, progenitor_list_b])\n"
   ]
  },
  {
   "cell_type": "code",
   "execution_count": 39,
   "id": "cbe5b651-d5b1-44d0-9382-a7b77890ddd2",
   "metadata": {},
   "outputs": [
    {
     "data": {
      "text/plain": [
       "['Coat', 'Sunscream', 'Glasses', 'Knife', 'Water', 'Chair', 'Blanket', 'Socks']"
      ]
     },
     "execution_count": 39,
     "metadata": {},
     "output_type": "execute_result"
    }
   ],
   "source": [
    "progenitor_list = progenitor_selection(population_set, fitnes_list)\n",
    "\n",
    "len(progenitor_list)\n",
    "progenitor_list[0][2]"
   ]
  },
  {
   "cell_type": "code",
   "execution_count": null,
   "id": "eb980609-2e76-4df6-830f-e90b9ca28917",
   "metadata": {},
   "outputs": [],
   "source": [
    "# Mating \n",
    "# Each pair of parents we will generate an offspring pair"
   ]
  },
  {
   "cell_type": "code",
   "execution_count": 40,
   "id": "ff2c15b6-dd9a-47f3-a281-11d27813d7e5",
   "metadata": {},
   "outputs": [],
   "source": [
    "def mate_progenitors(prog_a, prog_b, max_weight, objects_dict):\n",
    "    \n",
    "    offspring = []\n",
    "    \n",
    "    for i in zip(prog_a, prog_b):\n",
    "        \n",
    "        offspring.extend(i)      # extend() method adds all the elements\n",
    "        \n",
    "        offspring = list(dict.fromkeys(offspring))  # removing duplicates\n",
    "        \n",
    "        offspring = fit_in_knapsack(offspring, max_weight, objects_dict)\n",
    "    \n",
    "    return offspring          "
   ]
  },
  {
   "cell_type": "code",
   "execution_count": 41,
   "id": "c60b41d1-7e2e-42ab-bffd-c2f71c32ac40",
   "metadata": {},
   "outputs": [],
   "source": [
    "def mate_population(progenitor_list, max_weight, objects_dict):\n",
    "    \n",
    "    new_population_set = []\n",
    "    \n",
    "    for i in range(progenitor_list.shape[1]):\n",
    "        \n",
    "        prog_a, prog_b = progenitor_list[0][i], progenitor_list[1][i]\n",
    "        \n",
    "        offspring = mate_progenitors(prog_a, prog_b, max_weight, objects_dict)\n",
    "        \n",
    "        new_population_set.append(offspring)\n",
    "        \n",
    "    return new_population_set"
   ]
  },
  {
   "cell_type": "code",
   "execution_count": 44,
   "id": "9b6aba2e-5f78-43aa-abf1-03f9ce76d681",
   "metadata": {},
   "outputs": [
    {
     "data": {
      "text/plain": [
       "['Glasses', 'Cellphone', 'Socks', 'Pants', 'Book', 'Fork', 'Shirts']"
      ]
     },
     "execution_count": 44,
     "metadata": {},
     "output_type": "execute_result"
    }
   ],
   "source": [
    "new_population_set = mate_population(progenitor_list, max_weight, objects_dict)\n",
    "\n",
    "new_population_set[0]"
   ]
  },
  {
   "cell_type": "code",
   "execution_count": null,
   "id": "7a0101c6-789e-44e7-a761-5b42efced46e",
   "metadata": {},
   "outputs": [],
   "source": [
    "# Mutation\n",
    "# Now each element of the new population we add a random chance of swapping"
   ]
  },
  {
   "cell_type": "code",
   "execution_count": 45,
   "id": "ae492c1c-ea95-451e-b47f-52ac555615b4",
   "metadata": {},
   "outputs": [],
   "source": [
    "def mutate_offspring(offspring, max_weight, object_list, objects_dict):\n",
    "    \n",
    "    for mutation_number in range(int(len(offspring) * mutation_rate)):\n",
    "        \n",
    "        a = np.random.randint(0, len(object_list))\n",
    "        \n",
    "        b = np.random.randint(0, len(offspring))\n",
    "        \n",
    "        offspring.insert(b, object_list[a])\n",
    "        \n",
    "    offspring = fit_in_knapsack(offspring, max_weight, objects_dict)\n",
    "    \n",
    "    return offspring\n",
    "        "
   ]
  },
  {
   "cell_type": "code",
   "execution_count": 46,
   "id": "0d2840bf-fd6f-4a57-984f-e95cb87a7fc8",
   "metadata": {},
   "outputs": [],
   "source": [
    "def mutate_population(new_population_set, max_weight, object_list, objects_dict):\n",
    "    \n",
    "    mutated_pop = []\n",
    "    \n",
    "    for offspring in new_population_set:\n",
    "        \n",
    "        mutated_pop.append(mutate_offspring(offspring, max_weight, object_list, objects_dict))\n",
    "        \n",
    "    return mutated_pop"
   ]
  },
  {
   "cell_type": "code",
   "execution_count": 50,
   "id": "814b5866-645f-4da8-bde7-b81f3ad0c3e5",
   "metadata": {},
   "outputs": [
    {
     "data": {
      "text/plain": [
       "['Cellphone', 'Glasses', 'Cellphone', 'Shirts', 'Food', 'Socks', 'Socks']"
      ]
     },
     "execution_count": 50,
     "metadata": {},
     "output_type": "execute_result"
    }
   ],
   "source": [
    "mutated_pop = mutate_population(new_population_set, max_weight, object_list, objects_dict)\n",
    "\n",
    "mutated_pop[0]"
   ]
  },
  {
   "cell_type": "code",
   "execution_count": null,
   "id": "66ee2cd4-83cc-40fa-b09f-c83f3c0cdf1e",
   "metadata": {},
   "outputs": [],
   "source": [
    "# Stopping criteria - loop to stop at 10000 iteration"
   ]
  },
  {
   "cell_type": "code",
   "execution_count": 51,
   "id": "f2cfefee-0e96-4545-bdfa-b04ef129fad2",
   "metadata": {},
   "outputs": [
    {
     "name": "stdout",
     "output_type": "stream",
     "text": [
      "0 122.0 306.98 27/01/22 17:39\n"
     ]
    },
    {
     "name": "stderr",
     "output_type": "stream",
     "text": [
      "C:\\Users\\Lenovo\\AppData\\Local\\Temp/ipykernel_9692/3438070272.py:17: VisibleDeprecationWarning: Creating an ndarray from ragged nested sequences (which is a list-or-tuple of lists-or-tuples-or ndarrays with different lengths or shapes) is deprecated. If you meant to do this, you must specify 'dtype=object' when creating the ndarray.\n",
      "  best_solution[2] = np.array(mutated_pop)[fitnes_list.max() == fitnes_list]\n"
     ]
    },
    {
     "name": "stdout",
     "output_type": "stream",
     "text": [
      "100 141.0 310.71 27/01/22 17:39\n",
      "200 150.0 330.37 27/01/22 17:39\n",
      "300 124.0 310.95 27/01/22 17:39\n",
      "400 104.0 320.78 27/01/22 17:39\n",
      "500 86.0 331.85 27/01/22 17:39\n",
      "600 119.0 308.91 27/01/22 17:39\n",
      "700 170.0 315.24 27/01/22 17:39\n",
      "800 112.0 297.72 27/01/22 17:39\n",
      "900 119.0 323.31 27/01/22 17:39\n",
      "1000 60.0 306.43 27/01/22 17:39\n",
      "1100 120.0 324.26 27/01/22 17:39\n",
      "1200 134.0 307.89 27/01/22 17:39\n",
      "1300 127.0 320.0 27/01/22 17:39\n",
      "1400 177.0 333.27 27/01/22 17:39\n",
      "1500 90.0 315.83 27/01/22 17:39\n",
      "1600 165.0 312.77 27/01/22 17:39\n",
      "1700 119.0 299.83 27/01/22 17:39\n",
      "1800 129.0 318.08 27/01/22 17:39\n",
      "1900 136.0 319.8 27/01/22 17:39\n",
      "2000 131.0 308.21 27/01/22 17:39\n",
      "2100 122.0 320.47 27/01/22 17:39\n",
      "2200 130.0 315.12 27/01/22 17:39\n",
      "2300 111.0 307.64 27/01/22 17:39\n",
      "2400 123.0 325.13 27/01/22 17:39\n",
      "2500 69.0 321.45 27/01/22 17:39\n",
      "2600 115.0 319.62 27/01/22 17:39\n",
      "2700 125.0 321.32 27/01/22 17:39\n",
      "2800 98.0 321.92 27/01/22 17:39\n",
      "2900 147.0 307.17 27/01/22 17:39\n",
      "3000 121.0 305.28 27/01/22 17:39\n",
      "3100 150.0 333.87 27/01/22 17:39\n",
      "3200 128.0 309.64 27/01/22 17:39\n",
      "3300 99.0 294.56 27/01/22 17:39\n",
      "3400 112.0 311.12 27/01/22 17:39\n",
      "3500 152.0 330.79 27/01/22 17:39\n",
      "3600 132.0 308.77 27/01/22 17:39\n",
      "3700 181.0 323.56 27/01/22 17:39\n",
      "3800 72.0 330.94 27/01/22 17:39\n",
      "3900 145.0 325.49 27/01/22 17:39\n",
      "4000 106.0 311.63 27/01/22 17:39\n",
      "4100 58.0 312.08 27/01/22 17:39\n",
      "4200 159.0 318.65 27/01/22 17:39\n",
      "4300 131.0 302.17 27/01/22 17:39\n",
      "4400 97.0 307.7 27/01/22 17:39\n",
      "4500 101.0 304.85 27/01/22 17:39\n",
      "4600 119.0 312.23 27/01/22 17:40\n",
      "4700 84.0 310.66 27/01/22 17:40\n",
      "4800 82.0 304.2 27/01/22 17:40\n",
      "4900 93.0 308.23 27/01/22 17:40\n",
      "5000 142.0 321.52 27/01/22 17:40\n",
      "5100 149.0 316.73 27/01/22 17:40\n",
      "5200 146.0 301.17 27/01/22 17:40\n",
      "5300 106.0 319.62 27/01/22 17:40\n",
      "5400 136.0 310.76 27/01/22 17:40\n",
      "5500 79.0 314.27 27/01/22 17:40\n",
      "5600 176.0 333.46 27/01/22 17:40\n",
      "5700 133.0 320.16 27/01/22 17:40\n",
      "5800 147.0 304.95 27/01/22 17:40\n",
      "5900 162.0 307.92 27/01/22 17:40\n",
      "6000 115.0 310.01 27/01/22 17:40\n",
      "6100 106.0 294.21 27/01/22 17:40\n",
      "6200 119.0 322.22 27/01/22 17:40\n",
      "6300 99.0 322.84 27/01/22 17:40\n",
      "6400 149.0 335.26 27/01/22 17:40\n",
      "6500 94.0 326.74 27/01/22 17:40\n",
      "6600 138.0 304.94 27/01/22 17:40\n",
      "6700 97.0 307.92 27/01/22 17:40\n",
      "6800 130.0 309.54 27/01/22 17:40\n",
      "6900 137.0 311.38 27/01/22 17:40\n",
      "7000 79.0 303.23 27/01/22 17:40\n",
      "7100 167.0 324.62 27/01/22 17:40\n",
      "7200 133.0 319.27 27/01/22 17:40\n",
      "7300 99.0 311.57 27/01/22 17:40\n",
      "7400 164.0 318.9 27/01/22 17:40\n",
      "7500 121.0 309.85 27/01/22 17:40\n",
      "7600 158.0 325.51 27/01/22 17:40\n",
      "7700 130.0 323.81 27/01/22 17:40\n",
      "7800 137.0 324.15 27/01/22 17:40\n",
      "7900 108.0 308.39 27/01/22 17:40\n",
      "8000 97.0 312.94 27/01/22 17:40\n",
      "8100 127.0 316.72 27/01/22 17:40\n",
      "8200 121.0 316.0 27/01/22 17:40\n",
      "8300 149.0 302.49 27/01/22 17:40\n",
      "8400 135.0 318.47 27/01/22 17:40\n",
      "8500 86.0 309.9 27/01/22 17:40\n",
      "8600 119.0 326.63 27/01/22 17:40\n",
      "8700 152.0 327.92 27/01/22 17:40\n",
      "8800 166.0 316.3 27/01/22 17:40\n",
      "8900 114.0 322.87 27/01/22 17:40\n",
      "9000 108.0 308.32 27/01/22 17:40\n",
      "9100 120.0 316.65 27/01/22 17:40\n",
      "9200 134.0 322.62 27/01/22 17:40\n",
      "9300 129.0 325.25 27/01/22 17:40\n",
      "9400 119.0 297.23 27/01/22 17:40\n",
      "9500 95.0 309.78 27/01/22 17:40\n",
      "9600 113.0 312.63 27/01/22 17:40\n",
      "9700 125.0 318.03 27/01/22 17:40\n",
      "9800 97.0 325.85 27/01/22 17:40\n",
      "9900 96.0 322.93 27/01/22 17:40\n"
     ]
    }
   ],
   "source": [
    "best_solution = [-1, -np.inf, np.array([])]\n",
    "\n",
    "for i in range(10000):\n",
    "    \n",
    "    if i % 100 == 0: print(i, fitnes_list.min(), fitnes_list.mean(), datetime.now().strftime(\"%d/%m/%y %H:%M\"))\n",
    "    \n",
    "    fitnes_list = get_all_fitnes(mutated_pop, objects_dict)\n",
    "    \n",
    "    # Saving the best solution\n",
    "    \n",
    "    if fitnes_list.max() > best_solution[1]:\n",
    "        \n",
    "        best_solution[0] = i\n",
    "        \n",
    "        best_solution[1] = fitnes_list.max()\n",
    "        \n",
    "        best_solution[2] = np.array(mutated_pop)[fitnes_list.max() == fitnes_list]\n",
    "        \n",
    "        \n",
    "        \n",
    "    progenitor_list = progenitor_selection(population_set, fitnes_list)\n",
    "    \n",
    "    new_population_set = mate_population(progenitor_list, max_weight, objects_dict) \n",
    "    \n",
    "    mutated_pop = mutate_population(new_population_set, max_weight, object_list, objects_dict)\n",
    "    \n",
    "    "
   ]
  },
  {
   "cell_type": "code",
   "execution_count": 52,
   "id": "59fff5ad-8984-48aa-8d8f-42bf6ff79eb5",
   "metadata": {},
   "outputs": [
    {
     "data": {
      "text/plain": [
       "[6984,\n",
       " 796.0,\n",
       " array([list(['TV', 'Laptop', 'Glasses', 'Socks', 'Water', 'Coat', 'Pants', 'Socks', 'Blanket', 'Food', 'Matches', 'Socks', 'Towel', 'Glasses'])],\n",
       "       dtype=object)]"
      ]
     },
     "execution_count": 52,
     "metadata": {},
     "output_type": "execute_result"
    }
   ],
   "source": [
    "best_solution"
   ]
  },
  {
   "cell_type": "code",
   "execution_count": 54,
   "id": "3d4b0de9-4fb6-404b-bbf1-f3f0c9ca6480",
   "metadata": {},
   "outputs": [
    {
     "data": {
      "text/plain": [
       "(2.8000000000000003, 796)"
      ]
     },
     "execution_count": 54,
     "metadata": {},
     "output_type": "execute_result"
    }
   ],
   "source": [
    "get_current_weight_value(best_solution[2][0], objects_dict)"
   ]
  }
 ],
 "metadata": {
  "kernelspec": {
   "display_name": "Python 3 (ipykernel)",
   "language": "python",
   "name": "python3"
  },
  "language_info": {
   "codemirror_mode": {
    "name": "ipython",
    "version": 3
   },
   "file_extension": ".py",
   "mimetype": "text/x-python",
   "name": "python",
   "nbconvert_exporter": "python",
   "pygments_lexer": "ipython3",
   "version": "3.8.12"
  },
  "widgets": {
   "application/vnd.jupyter.widget-state+json": {
    "state": {},
    "version_major": 2,
    "version_minor": 0
   }
  }
 },
 "nbformat": 4,
 "nbformat_minor": 5
}
