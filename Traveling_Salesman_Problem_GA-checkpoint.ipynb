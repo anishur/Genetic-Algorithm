{
 "cells": [
  {
   "cell_type": "code",
   "execution_count": null,
   "id": "2a0355d1-c9bd-41bd-ae8c-07efd69d2a83",
   "metadata": {},
   "outputs": [],
   "source": [
    "# https://github.com/rocreguant/personal_blog/blob/main/Genetic_Algorithm_Python_Example/Traveling_Salesman_Problem.ipynb"
   ]
  },
  {
   "cell_type": "code",
   "execution_count": null,
   "id": "1e125402-9e02-4334-be9f-7a95748ebad8",
   "metadata": {},
   "outputs": [],
   "source": [
    "# another example\n",
    "# https://github.com/avitomar12/TSP-using-Genetic-Algorithm/blob/master/tsp_GA.ipynb\n",
    "# https://jaketae.github.io/study/genetic-algorithm/\n",
    "# https://towardsdatascience.com/python-genetic-algorithms-and-the-traveling-salesman-problem-f65542fae5d\n",
    "# https://gist.github.com/turbofart/3428880\n",
    "# https://hackernoon.com/genetic-algorithms-explained-a-python-implementation-sd4w374i    # very good exaplaination\n",
    "# https://www.programmerall.com/article/8186303568/                                       # city tour with city coordinate dataset"
   ]
  },
  {
   "cell_type": "code",
   "execution_count": 3,
   "id": "c5e65cdf-9ae3-4fe7-9d25-96b87b6ad905",
   "metadata": {},
   "outputs": [],
   "source": [
    "import numpy as np\n",
    "import random\n",
    "from datetime import datetime"
   ]
  },
  {
   "cell_type": "code",
   "execution_count": 4,
   "id": "3f0739dc-e427-4602-b128-228260c07019",
   "metadata": {},
   "outputs": [],
   "source": [
    "# Parameters\n",
    "\n",
    "n_cities = 20\n",
    "\n",
    "n_population = 100\n",
    "\n",
    "mutation_rate = 0.3"
   ]
  },
  {
   "cell_type": "code",
   "execution_count": 16,
   "id": "cb1908fc-d158-4f05-85f2-de287a8c7ef9",
   "metadata": {},
   "outputs": [],
   "source": [
    "# Generating a list of coordenades representing each city\n",
    "\n",
    "coordinates_list = [[x,y] for x,y in zip(np.random.randint(0,100,n_cities), np.random.randint(0,100,n_cities))]\n",
    "\n",
    "names_list = np.array(['Berlin','London','Moscow','Barcelona','Rome','Paris','Vienna','Munich','Istanbul','Kyiv','Bucharest','Minsk','Warsaw','Budapest','Milan','Prague','Sofia','Lisbon','Brussels','Amsterdam'])\n",
    "\n",
    "cities_dict = {x:y for x,y in zip(names_list, coordinates_list)}"
   ]
  },
  {
   "cell_type": "code",
   "execution_count": 17,
   "id": "d8469e00-21f2-4b70-aeb0-b19dabba4ec6",
   "metadata": {},
   "outputs": [
    {
     "data": {
      "text/plain": [
       "{'Berlin': [97, 0],\n",
       " 'London': [90, 68],\n",
       " 'Moscow': [51, 36],\n",
       " 'Barcelona': [56, 9],\n",
       " 'Rome': [70, 47],\n",
       " 'Paris': [12, 6],\n",
       " 'Vienna': [26, 50],\n",
       " 'Munich': [0, 88],\n",
       " 'Istanbul': [51, 77],\n",
       " 'Kyiv': [39, 62],\n",
       " 'Bucharest': [81, 82],\n",
       " 'Minsk': [21, 29],\n",
       " 'Warsaw': [92, 60],\n",
       " 'Budapest': [37, 25],\n",
       " 'Milan': [43, 3],\n",
       " 'Prague': [91, 61],\n",
       " 'Sofia': [63, 56],\n",
       " 'Lisbon': [84, 28],\n",
       " 'Brussels': [85, 53],\n",
       " 'Amsterdam': [68, 32]}"
      ]
     },
     "execution_count": 17,
     "metadata": {},
     "output_type": "execute_result"
    }
   ],
   "source": [
    "cities_dict"
   ]
  },
  {
   "cell_type": "code",
   "execution_count": 18,
   "id": "6cd98753-e6b7-4578-8c7b-db31dbf1bba8",
   "metadata": {},
   "outputs": [],
   "source": [
    "# Function to compute the distance between tow points\n",
    "# two_point_distance = ((y2-y1)**2 + (x2-x1)**2)**0.5\n",
    "\n",
    "def compute_city_distance_coordinates(a,b):\n",
    "    \n",
    "    return ((a[0] - b[0])**2 + (a[1] - b[1])**2)**0.5"
   ]
  },
  {
   "cell_type": "code",
   "execution_count": 19,
   "id": "0b3fe638-5999-44c3-b506-5bff5f733f6c",
   "metadata": {},
   "outputs": [],
   "source": [
    "def compute_city_distance_names(city_a, city_b, cities_dict):\n",
    "    \n",
    "    return compute_city_distance_coordinates(cities_dict[city_a], cities_dict[city_b])\n",
    "\n"
   ]
  },
  {
   "cell_type": "code",
   "execution_count": null,
   "id": "30fc638d-0670-4b37-9a22-9e680b508a8c",
   "metadata": {},
   "outputs": [],
   "source": [
    "# Create the first population set\n",
    "# randomly shuffle the cities N times where N=population_size"
   ]
  },
  {
   "cell_type": "code",
   "execution_count": 21,
   "id": "500fbb04-7e8e-4ca7-8aa7-90eb3ff7c183",
   "metadata": {},
   "outputs": [],
   "source": [
    "# in the first step : create the first population set\n",
    "\n",
    "def genesis(city_list, n_population):\n",
    "    \n",
    "    population_set = []\n",
    "    \n",
    "    for i in range(n_population):\n",
    "        \n",
    "        #now randomly generating a new solution\n",
    "        \n",
    "        sol_i = city_list[np.random.choice(list(range(n_cities)), n_cities, replace=False)]\n",
    "        \n",
    "        population_set.append(sol_i)\n",
    "    \n",
    "    return np.array(population_set) "
   ]
  },
  {
   "cell_type": "code",
   "execution_count": 25,
   "id": "6d021b41-9c30-4e24-8cef-92055ad4ed28",
   "metadata": {},
   "outputs": [
    {
     "data": {
      "text/plain": [
       "array([['Sofia', 'Amsterdam', 'Barcelona', ..., 'Warsaw', 'Berlin',\n",
       "        'Moscow'],\n",
       "       ['Warsaw', 'Istanbul', 'Milan', ..., 'Munich', 'Vienna',\n",
       "        'Barcelona'],\n",
       "       ['Kyiv', 'Milan', 'Berlin', ..., 'Munich', 'London', 'Moscow'],\n",
       "       ...,\n",
       "       ['Paris', 'Rome', 'Amsterdam', ..., 'Barcelona', 'Budapest',\n",
       "        'Lisbon'],\n",
       "       ['Milan', 'Moscow', 'Sofia', ..., 'Munich', 'Bucharest',\n",
       "        'Istanbul'],\n",
       "       ['Rome', 'Munich', 'Kyiv', ..., 'Vienna', 'Lisbon', 'Prague']],\n",
       "      dtype='<U9')"
      ]
     },
     "execution_count": 25,
     "metadata": {},
     "output_type": "execute_result"
    }
   ],
   "source": [
    "population_set = genesis(names_list, n_population)\n",
    "\n",
    "population_set\n",
    "#print(len(population_set))"
   ]
  },
  {
   "cell_type": "code",
   "execution_count": null,
   "id": "d8fc16a4-39ab-4942-997e-3c283078dbad",
   "metadata": {},
   "outputs": [],
   "source": [
    "# Evaluate solution fitness \n",
    "# The solutions are defined so that the first element on the list is the first city to visit, then the second, etc. and \n",
    "# the last city is linked to the first\n",
    "# the fitness function needs to compute the distance between subsequent cities"
   ]
  },
  {
   "cell_type": "code",
   "execution_count": 26,
   "id": "e20aff97-6c20-47ae-92ee-702af26befb7",
   "metadata": {},
   "outputs": [],
   "source": [
    "# fitness evaluation\n",
    "\n",
    "def fitness_eval(city_list, cities_dict):\n",
    "    \n",
    "    total = 0\n",
    "    \n",
    "    for i in range(n_cities - 1):\n",
    "        \n",
    "        a = city_list[i]\n",
    "        \n",
    "        b = city_list[i+1]\n",
    "        \n",
    "        total += compute_city_distance_names(a,b, cities_dict)\n",
    "        \n",
    "    return total\n",
    "    \n",
    "    "
   ]
  },
  {
   "cell_type": "code",
   "execution_count": 27,
   "id": "e4c73834-b512-4c08-bcea-bf297aa9f3f8",
   "metadata": {},
   "outputs": [],
   "source": [
    "def get_all_fitnes(population_set, cities_dict):\n",
    "    \n",
    "    fitnes_list = np.zeros(n_population)\n",
    "    \n",
    "    #looping over all solutions computing the fitness for each solution\n",
    "    \n",
    "    for i in range(n_population):\n",
    "        \n",
    "        fitnes_list[i] = fitness_eval(population_set[i], cities_dict)\n",
    "    \n",
    "    return fitnes_list"
   ]
  },
  {
   "cell_type": "code",
   "execution_count": 31,
   "id": "e3b7ed6a-6f89-4880-9d13-e682e0dd4bee",
   "metadata": {},
   "outputs": [
    {
     "data": {
      "text/plain": [
       "array([ 889.16656706,  756.90398645, 1075.2974105 , 1007.4411207 ,\n",
       "        905.888976  , 1097.01237722, 1133.67021129,  949.19870664,\n",
       "        989.06812886, 1046.37277616, 1070.86648193,  990.47326449,\n",
       "       1003.90750698, 1105.42049613, 1007.68541649,  850.94131451,\n",
       "        984.85495641,  837.83633562,  938.11849695, 1095.48255728,\n",
       "       1103.25907968, 1052.98804471,  869.50464702,  922.13055322,\n",
       "        880.86152384,  917.53672682,  982.89843759,  804.06918027,\n",
       "       1027.79254568,  854.23834925, 1044.26970893,  871.32449511,\n",
       "        941.88670585,  946.43041044,  901.24596425,  993.07831044,\n",
       "       1049.08864676, 1055.99972505,  936.59411159,  897.19739489,\n",
       "        815.87928729,  890.00325969,  914.34338413, 1021.35415104,\n",
       "        955.13030971,  772.64349322, 1073.39380904,  823.46489049,\n",
       "       1071.72607089,  970.38113259,  971.42954407, 1060.70256423,\n",
       "        872.13163545,  892.54969222,  975.00703389, 1016.40747474,\n",
       "       1008.21140046, 1021.28885566,  897.55191229,  946.04494074,\n",
       "        909.65306354,  872.73472067, 1111.97162767, 1017.82511776,\n",
       "        840.76304957,  914.92279597,  863.33779719,  911.71286278,\n",
       "        889.28134255,  902.60466003,  935.92350386,  990.29565139,\n",
       "       1116.70091631, 1019.78897784, 1008.06486011,  966.53102549,\n",
       "       1079.26434074,  978.07773914,  965.4255268 , 1079.13417531,\n",
       "        800.9929276 ,  914.7127377 ,  950.59177408, 1082.05153321,\n",
       "        963.2816674 ,  912.57383887, 1061.4286611 , 1014.51218927,\n",
       "        807.39140872,  910.63723776,  965.55721445,  973.02772218,\n",
       "        915.60053989,  811.72149103, 1114.98350788, 1087.32483481,\n",
       "       1016.71102341, 1016.96982455,  992.33095537,  939.29539308])"
      ]
     },
     "execution_count": 31,
     "metadata": {},
     "output_type": "execute_result"
    }
   ],
   "source": [
    "fitnes_list = get_all_fitnes(population_set, cities_dict)\n",
    "\n",
    "fitnes_list\n",
    "#print(len(fitnes_list))"
   ]
  },
  {
   "cell_type": "code",
   "execution_count": null,
   "id": "c6bbeb86-a2e6-47d8-ad5d-d5b1fe223849",
   "metadata": {},
   "outputs": [],
   "source": [
    "# Progenitors selection\n",
    "# here we will select a new set of progenitors using the Roulette Wheel Selection\n",
    "# Generates a list of progenitor pairs where \n",
    "# N = len(population_set)\n",
    "# but at each position there are two solutions to merge"
   ]
  },
  {
   "cell_type": "code",
   "execution_count": 32,
   "id": "0dd53e05-7fc1-4cd4-b2c2-da68354629f0",
   "metadata": {},
   "outputs": [],
   "source": [
    "def progenitor_selection(population_set, fitnes_list):\n",
    "    \n",
    "    total_fit = fitnes_list.sum()\n",
    "    \n",
    "    prob_list = fitnes_list/total_fit\n",
    "    \n",
    "    progenitor_list_a = np.random.choice(list(range(len(population_set))), len(population_set), p= prob_list, replace=True)\n",
    "    \n",
    "    progenitor_list_b = np.random.choice(list(range(len(population_set))), len(population_set), p= prob_list, replace=True)\n",
    "\n",
    "    progenitor_list_a = population_set[progenitor_list_a]\n",
    "    \n",
    "    progenitor_list_b = population_set[progenitor_list_b]\n",
    "    \n",
    "    return np.array([progenitor_list_a, progenitor_list_b])\n"
   ]
  },
  {
   "cell_type": "code",
   "execution_count": 33,
   "id": "8e6a7241-5bd6-49eb-8a76-e252520b96b1",
   "metadata": {},
   "outputs": [],
   "source": [
    "progenitor_list = progenitor_selection(population_set, fitnes_list)"
   ]
  },
  {
   "cell_type": "code",
   "execution_count": 34,
   "id": "409d1864-f8e2-406c-92a4-d4ea44949843",
   "metadata": {},
   "outputs": [
    {
     "data": {
      "text/plain": [
       "array(['Vienna', 'Prague', 'Paris', 'Rome', 'Kyiv', 'Berlin', 'London',\n",
       "       'Bucharest', 'Minsk', 'Amsterdam', 'Moscow', 'Milan', 'Lisbon',\n",
       "       'Sofia', 'Barcelona', 'Istanbul', 'Brussels', 'Budapest', 'Warsaw',\n",
       "       'Munich'], dtype='<U9')"
      ]
     },
     "execution_count": 34,
     "metadata": {},
     "output_type": "execute_result"
    }
   ],
   "source": [
    "progenitor_list[0][2]"
   ]
  },
  {
   "cell_type": "code",
   "execution_count": 37,
   "id": "7515bd1f-ebd0-4a94-a767-e1db9fe2e0bd",
   "metadata": {},
   "outputs": [
    {
     "data": {
      "text/plain": [
       "array([[['Paris', 'Prague', 'Munich', ..., 'Bucharest', 'Moscow',\n",
       "         'Milan'],\n",
       "        ['Vienna', 'Berlin', 'Brussels', ..., 'Rome', 'Paris',\n",
       "         'Barcelona'],\n",
       "        ['Vienna', 'Prague', 'Paris', ..., 'Budapest', 'Warsaw',\n",
       "         'Munich'],\n",
       "        ...,\n",
       "        ['Minsk', 'Budapest', 'Brussels', ..., 'Vienna', 'Milan',\n",
       "         'Amsterdam'],\n",
       "        ['Rome', 'Munich', 'Kyiv', ..., 'Vienna', 'Lisbon', 'Prague'],\n",
       "        ['Milan', 'Vienna', 'Lisbon', ..., 'Moscow', 'Rome', 'Munich']],\n",
       "\n",
       "       [['Lisbon', 'Vienna', 'Berlin', ..., 'Amsterdam', 'Paris',\n",
       "         'Warsaw'],\n",
       "        ['Rome', 'Munich', 'Kyiv', ..., 'Vienna', 'Lisbon', 'Prague'],\n",
       "        ['Amsterdam', 'Munich', 'Istanbul', ..., 'Rome', 'Paris',\n",
       "         'Milan'],\n",
       "        ...,\n",
       "        ['Paris', 'Prague', 'Munich', ..., 'Bucharest', 'Moscow',\n",
       "         'Milan'],\n",
       "        ['Rome', 'Warsaw', 'Amsterdam', ..., 'Kyiv', 'Lisbon',\n",
       "         'Barcelona'],\n",
       "        ['Paris', 'Prague', 'Munich', ..., 'Bucharest', 'Moscow',\n",
       "         'Milan']]], dtype='<U9')"
      ]
     },
     "execution_count": 37,
     "metadata": {},
     "output_type": "execute_result"
    }
   ],
   "source": [
    "progenitor_list\n",
    "#print(len(progenitor_list))"
   ]
  },
  {
   "cell_type": "code",
   "execution_count": null,
   "id": "82cda827-a742-4ade-a5fa-58ca6914b5b2",
   "metadata": {},
   "outputs": [],
   "source": [
    "# Mating \n",
    "# for each pair of parents we will generate an offspring pair.\n",
    "# since we cannot repeat cities what we will do is copy a random chunk from one progenitor \n",
    "# and fill the blanks with the other progenitor"
   ]
  },
  {
   "cell_type": "code",
   "execution_count": 45,
   "id": "16ca91cc-864d-4fbe-936d-ed40319a8026",
   "metadata": {},
   "outputs": [],
   "source": [
    "def mate_progenitors(prog_a, prog_b):\n",
    "    \n",
    "    offspring = prog_a[0:5]\n",
    "    \n",
    "    for city in prog_b:\n",
    "        \n",
    "        if not city in offspring:\n",
    "            \n",
    "            offspring = np.concatenate((offspring,[city]))\n",
    "            \n",
    "    return offspring"
   ]
  },
  {
   "cell_type": "code",
   "execution_count": 46,
   "id": "82b89c19-12ce-4cee-b52c-9cd10fff5f13",
   "metadata": {},
   "outputs": [],
   "source": [
    "def mate_population(progenitor_list):\n",
    "    \n",
    "    new_population_set = []\n",
    "    \n",
    "    for i in range(progenitor_list.shape[1]):\n",
    "        \n",
    "        prog_a, prog_b = progenitor_list[0][i], progenitor_list[1][i]\n",
    "        \n",
    "        offspring = mate_progenitors(prog_a, prog_b)\n",
    "        \n",
    "        new_population_set.append(offspring)\n",
    "    \n",
    "    return new_population_set"
   ]
  },
  {
   "cell_type": "code",
   "execution_count": 48,
   "id": "a4069901-0132-475d-a7cc-4e5607879b44",
   "metadata": {},
   "outputs": [
    {
     "data": {
      "text/plain": [
       "array(['Paris', 'Prague', 'Munich', 'Vienna', 'Rome', 'Lisbon', 'Berlin',\n",
       "       'Minsk', 'Istanbul', 'Sofia', 'Budapest', 'Barcelona', 'Kyiv',\n",
       "       'Bucharest', 'London', 'Milan', 'Moscow', 'Brussels', 'Amsterdam',\n",
       "       'Warsaw'], dtype='<U9')"
      ]
     },
     "execution_count": 48,
     "metadata": {},
     "output_type": "execute_result"
    }
   ],
   "source": [
    "new_population_set = mate_population(progenitor_list)\n",
    "\n",
    "new_population_set[0]"
   ]
  },
  {
   "cell_type": "code",
   "execution_count": null,
   "id": "c1b1da7b-34df-427b-8b8d-429b2481636b",
   "metadata": {},
   "outputs": [],
   "source": [
    "# Mutation\n",
    "# for each element of the new population we add a random chance of swapping\n",
    "# "
   ]
  },
  {
   "cell_type": "code",
   "execution_count": 49,
   "id": "fc63ce47-4b03-4f16-a576-2ab55b87bb79",
   "metadata": {},
   "outputs": [],
   "source": [
    "def mutate_offspring(offspring):\n",
    "    \n",
    "    for q in range(int(n_cities * mutation_rate)):\n",
    "        \n",
    "        a = np.random.randint(0, n_cities)\n",
    "        \n",
    "        b = np.random.randint(0, n_cities)\n",
    "        \n",
    "        offspring[a], offspring[b] = offspring[b], offspring[a]\n",
    "    \n",
    "    return offspring"
   ]
  },
  {
   "cell_type": "code",
   "execution_count": 50,
   "id": "41e2b74b-fdb0-462c-82fa-4e9d28d1788f",
   "metadata": {},
   "outputs": [],
   "source": [
    "def mutate_population(new_population_set):\n",
    "    \n",
    "    mutated_pop = []\n",
    "    \n",
    "    for offspring in new_population_set:\n",
    "        \n",
    "        mutated_pop.append(mutate_offspring(offspring))\n",
    "        \n",
    "    return mutated_pop"
   ]
  },
  {
   "cell_type": "code",
   "execution_count": 60,
   "id": "e5389b7c-9899-48c5-bd21-61c0091f4945",
   "metadata": {},
   "outputs": [
    {
     "data": {
      "text/plain": [
       "array(['Lisbon', 'Budapest', 'Vienna', 'London', 'Moscow', 'Rome',\n",
       "       'Bucharest', 'Paris', 'Minsk', 'Munich', 'Brussels', 'Istanbul',\n",
       "       'Amsterdam', 'Milan', 'Barcelona', 'Warsaw', 'Sofia', 'Berlin',\n",
       "       'Prague', 'Kyiv'], dtype='<U9')"
      ]
     },
     "execution_count": 60,
     "metadata": {},
     "output_type": "execute_result"
    }
   ],
   "source": [
    "mutated_pop = mutate_population(new_population_set)\n",
    "\n",
    "mutated_pop[0]"
   ]
  },
  {
   "cell_type": "code",
   "execution_count": null,
   "id": "52ef0f22-6a6f-4515-ab0a-a4c62c9b4766",
   "metadata": {},
   "outputs": [],
   "source": [
    "# Stopping\n",
    "# for Stopping criteria we will need to create a loop to stop at 10000 iteration. \n"
   ]
  },
  {
   "cell_type": "code",
   "execution_count": 68,
   "id": "dff24b81-8b28-4eee-bb8d-365dc39c5ff0",
   "metadata": {},
   "outputs": [
    {
     "name": "stdout",
     "output_type": "stream",
     "text": [
      "0 762.9156666322572 960.4258365620258 27/01/22 17:31\n",
      "100 738.0608925409257 946.9001075027686 27/01/22 17:31\n",
      "200 744.0234210114825 947.6516378585203 27/01/22 17:32\n",
      "300 714.9775239509485 942.6829367228197 27/01/22 17:32\n",
      "400 726.8174085065992 961.8644116403605 27/01/22 17:32\n",
      "500 766.805677200909 952.0247219643315 27/01/22 17:32\n",
      "600 742.8792455597761 966.9204202891094 27/01/22 17:32\n",
      "700 833.0951002531032 964.8764759478757 27/01/22 17:32\n",
      "800 746.090021390417 955.7544564207386 27/01/22 17:32\n",
      "900 781.5457368851269 964.2770325447906 27/01/22 17:32\n",
      "1000 804.6530539907205 956.9898295927476 27/01/22 17:32\n",
      "1100 796.9217173942762 968.0270214956113 27/01/22 17:32\n",
      "1200 733.6005568440684 959.7702060726045 27/01/22 17:32\n",
      "1300 778.5320461285975 947.474868954663 27/01/22 17:32\n",
      "1400 708.4755144375471 940.9023989938514 27/01/22 17:32\n",
      "1500 755.3640642488206 959.0832033795866 27/01/22 17:32\n",
      "1600 757.7004259094992 955.3509231616996 27/01/22 17:32\n",
      "1700 805.3817836971705 971.2440928170647 27/01/22 17:32\n",
      "1800 784.1598937387017 960.4238578370622 27/01/22 17:32\n",
      "1900 775.921760066133 958.2753693622107 27/01/22 17:32\n",
      "2000 759.6260730170139 967.664466850415 27/01/22 17:32\n",
      "2100 786.4781958522731 965.2996295789696 27/01/22 17:32\n",
      "2200 770.6029229693436 954.8822764247116 27/01/22 17:32\n",
      "2300 804.5757657760648 961.9013088488332 27/01/22 17:32\n",
      "2400 769.9120673103128 962.0521050619923 27/01/22 17:32\n",
      "2500 764.0780242898234 961.5668692762464 27/01/22 17:33\n",
      "2600 722.0478782398624 968.989657865645 27/01/22 17:33\n",
      "2700 720.2647296422767 942.755714602504 27/01/22 17:33\n",
      "2800 756.7285525089316 966.7160799294376 27/01/22 17:33\n",
      "2900 716.1794082239359 958.0470107111381 27/01/22 17:33\n",
      "3000 806.2902274962614 957.1866306969335 27/01/22 17:33\n",
      "3100 735.3906615511984 962.7481750808391 27/01/22 17:33\n",
      "3200 697.0745269012394 949.9205414821133 27/01/22 17:33\n",
      "3300 783.5884695535871 961.1370127340549 27/01/22 17:33\n",
      "3400 712.8171998999837 946.4431401650432 27/01/22 17:33\n",
      "3500 770.0206176679762 945.1145248397138 27/01/22 17:33\n",
      "3600 809.2071282031798 970.5292737578058 27/01/22 17:33\n",
      "3700 698.600700515845 969.9511317721494 27/01/22 17:33\n",
      "3800 745.9517383950739 944.7378017568287 27/01/22 17:33\n",
      "3900 771.4810189307569 966.0864546748002 27/01/22 17:33\n",
      "4000 787.2104611991404 946.2237042575539 27/01/22 17:33\n",
      "4100 759.668326430185 974.2816148763745 27/01/22 17:33\n",
      "4200 714.5261981102949 957.8470503542735 27/01/22 17:33\n",
      "4300 719.6185387715401 952.7902925620926 27/01/22 17:33\n",
      "4400 777.4716567887432 954.2207191769667 27/01/22 17:33\n",
      "4500 778.9068365328428 959.1535999236808 27/01/22 17:33\n",
      "4600 733.6726531956394 966.3841945873179 27/01/22 17:33\n",
      "4700 718.3690517949451 956.7061852635239 27/01/22 17:33\n",
      "4800 819.5523828781235 960.5572203403397 27/01/22 17:33\n",
      "4900 790.3783543707287 970.7727025775696 27/01/22 17:34\n",
      "5000 746.5378396636023 951.1603118064538 27/01/22 17:34\n",
      "5100 730.4758531459098 948.0903078302811 27/01/22 17:34\n",
      "5200 767.7247723151567 946.2158648538082 27/01/22 17:34\n",
      "5300 767.193715113909 951.8701621717926 27/01/22 17:34\n",
      "5400 743.3708009055443 952.0925085562492 27/01/22 17:34\n",
      "5500 772.3808403983426 957.3267930461376 27/01/22 17:34\n",
      "5600 828.9065093300121 978.9246650867175 27/01/22 17:34\n",
      "5700 741.1112601109705 960.5190623246291 27/01/22 17:34\n",
      "5800 770.2654080656462 964.6497514215886 27/01/22 17:34\n",
      "5900 743.6386012393457 963.7166193030405 27/01/22 17:34\n",
      "6000 771.5168904409929 969.0512070696401 27/01/22 17:34\n",
      "6100 783.1964336302098 967.8746472008957 27/01/22 17:34\n",
      "6200 795.8640476042115 961.0052636210573 27/01/22 17:34\n",
      "6300 787.774101328852 970.7815831035316 27/01/22 17:34\n",
      "6400 753.907009772758 946.9525788323417 27/01/22 17:34\n",
      "6500 784.0680239142113 973.0767026648119 27/01/22 17:34\n",
      "6600 784.3361527749902 976.4449545606797 27/01/22 17:34\n",
      "6700 772.3834443500393 969.8465801725584 27/01/22 17:34\n",
      "6800 806.270114940023 959.0680413642508 27/01/22 17:34\n",
      "6900 736.7711477406945 973.7499069655637 27/01/22 17:34\n",
      "7000 755.1506932313273 960.2142019563557 27/01/22 17:34\n",
      "7100 678.5279935009404 947.3967234203935 27/01/22 17:35\n",
      "7200 738.3896417052434 971.4653055736792 27/01/22 17:35\n",
      "7300 765.2937717840914 951.507747092711 27/01/22 17:35\n",
      "7400 680.6668321743592 942.1053714981817 27/01/22 17:35\n",
      "7500 758.1412865993552 953.8525853230475 27/01/22 17:35\n",
      "7600 776.8490008258016 953.7062236440183 27/01/22 17:35\n",
      "7700 764.9114226014519 961.5319692302139 27/01/22 17:35\n",
      "7800 752.0147503305437 964.4593916071407 27/01/22 17:35\n",
      "7900 751.2164228058612 948.1488621631297 27/01/22 17:35\n",
      "8000 774.9845262797867 964.5690560355039 27/01/22 17:35\n",
      "8100 748.823563517228 974.0485286714465 27/01/22 17:35\n",
      "8200 750.7110793810388 960.4612331518143 27/01/22 17:35\n",
      "8300 755.0264714002012 969.6862251274516 27/01/22 17:35\n",
      "8400 748.2633039922738 944.5984414534823 27/01/22 17:35\n",
      "8500 740.0187538837655 950.3842786218786 27/01/22 17:35\n",
      "8600 751.112392892561 973.1342065933429 27/01/22 17:35\n",
      "8700 741.5253323506927 965.0820307522736 27/01/22 17:35\n",
      "8800 781.1920280652533 954.4494836440128 27/01/22 17:35\n",
      "8900 734.0925374324962 952.2612733562315 27/01/22 17:35\n",
      "9000 772.7661169209387 957.8916963960644 27/01/22 17:35\n",
      "9100 788.797381887399 955.8657542137811 27/01/22 17:35\n",
      "9200 752.5773963258686 962.6189484451279 27/01/22 17:35\n",
      "9300 821.8559171181504 964.8464824801183 27/01/22 17:35\n",
      "9400 761.5500152568707 962.2617062318725 27/01/22 17:36\n",
      "9500 692.7197300623242 964.3284285899166 27/01/22 17:36\n",
      "9600 776.9739277426019 961.3842524223768 27/01/22 17:36\n",
      "9700 682.3916715490377 947.9848219750361 27/01/22 17:36\n",
      "9800 795.5601611492748 965.0846540282671 27/01/22 17:36\n",
      "9900 765.4435032537325 970.172229769474 27/01/22 17:36\n"
     ]
    }
   ],
   "source": [
    "best_solution = [-1, np.inf, np.array([])]\n",
    "\n",
    "for i in range(10000):\n",
    "    \n",
    "    if i % 100 == 0: print(i, fitnes_list.min(), fitnes_list.mean(), datetime.now().strftime(\"%d/%m/%y %H:%M\"))\n",
    "        \n",
    "    fitnes_list = get_all_fitnes(mutated_pop, cities_dict)\n",
    "        \n",
    "    # saving the best solution\n",
    "        \n",
    "    if fitnes_list.min() < best_solution[1]:\n",
    "        \n",
    "                 \n",
    "        best_solution[0] = i\n",
    "            \n",
    "        best_solution[1] = fitnes_list.min()\n",
    "            \n",
    "        best_solution[2] = np.array(mutated_pop)[fitnes_list.min() == fitnes_list]\n",
    "            \n",
    "        \n",
    "    progenitor_list = progenitor_selection(population_set, fitnes_list)\n",
    "        \n",
    "    new_population_set = mate_population(progenitor_list)\n",
    "        \n",
    "    mutated_pop = mutate_population(new_population_set)"
   ]
  },
  {
   "cell_type": "code",
   "execution_count": 70,
   "id": "dfa371ca-4909-443b-af14-a0e8f28a217b",
   "metadata": {},
   "outputs": [
    {
     "data": {
      "text/plain": [
       "[8620,\n",
       " 579.8204643615525,\n",
       " array([['Milan', 'Paris', 'Minsk', 'Barcelona', 'Budapest', 'Istanbul',\n",
       "         'Kyiv', 'Moscow', 'Munich', 'Vienna', 'Amsterdam', 'Berlin',\n",
       "         'Lisbon', 'Brussels', 'Warsaw', 'London', 'Prague', 'Rome',\n",
       "         'Sofia', 'Bucharest']], dtype='<U9')]"
      ]
     },
     "execution_count": 70,
     "metadata": {},
     "output_type": "execute_result"
    }
   ],
   "source": [
    "best_solution"
   ]
  },
  {
   "cell_type": "code",
   "execution_count": null,
   "id": "e8325413-27e2-4665-b523-7731a5cb05a9",
   "metadata": {},
   "outputs": [],
   "source": []
  }
 ],
 "metadata": {
  "kernelspec": {
   "display_name": "Python 3 (ipykernel)",
   "language": "python",
   "name": "python3"
  },
  "language_info": {
   "codemirror_mode": {
    "name": "ipython",
    "version": 3
   },
   "file_extension": ".py",
   "mimetype": "text/x-python",
   "name": "python",
   "nbconvert_exporter": "python",
   "pygments_lexer": "ipython3",
   "version": "3.8.12"
  },
  "widgets": {
   "application/vnd.jupyter.widget-state+json": {
    "state": {},
    "version_major": 2,
    "version_minor": 0
   }
  }
 },
 "nbformat": 4,
 "nbformat_minor": 5
}
